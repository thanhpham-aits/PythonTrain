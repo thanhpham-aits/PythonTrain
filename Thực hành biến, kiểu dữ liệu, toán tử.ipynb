{
 "cells": [
  {
   "cell_type": "code",
   "execution_count": 9,
   "id": "78bd3253",
   "metadata": {},
   "outputs": [],
   "source": [
    "#Thực hành vẽ mặt cười\n",
    "#B1: Import thư viện\n",
    "import turtle\n",
    "#Tạo bút vẽ\n",
    "pen = turtle.Turtle()\n",
    "#Xác định kích thước bút\n",
    "turtle.pensize(5) \n",
    "#define pen color\n",
    "turtle.pencolor(\"Blue\") \n",
    "pen.shape(\"circle\")\n",
    "#for outer bigger circle\n",
    "facesize = 200\n",
    "turtle.penup()\n",
    "turtle.goto(0, -200)\n",
    "turtle.pendown()\n",
    "turtle.circle(facesize)\n",
    "\n",
    "#for eyes\n",
    "#Màu nền mắt là màu đỏ\n",
    "turtle.fillcolor (\"red\")\n",
    "turtle.penup()\n",
    "turtle.goto(-100,50)\n",
    "turtle.pendown()\n",
    " \n",
    "# khai bao bien eyesize lưu kích thước mắt\n",
    "eye_size = 17.5\n",
    "nose_size=25\n",
    "\n",
    "turtle.begin_fill()\n",
    "turtle.circle(eye_size)\n",
    "turtle.end_fill()\n",
    "turtle.penup()\n",
    " \n",
    "turtle.goto(100,50)\n",
    "turtle.pendown()\n",
    "turtle.begin_fill()\n",
    "turtle.circle(eye_size)\n",
    "turtle.end_fill()\n",
    "\n",
    "#vẽ mũi\n",
    "turtle.penup()\n",
    "turtle.goto(0,50)\n",
    "\n",
    "turtle.pendown()\n",
    "turtle.circle(-nose_size, steps = 3)\n",
    "\n",
    "turtle.penup()\n",
    "turtle.goto(-100, -70)\n",
    "turtle.pendown()\n",
    "turtle.right(90)\n",
    "turtle.circle(100, 180)\n",
    "turtle.done()"
   ]
  },
  {
   "cell_type": "code",
   "execution_count": 11,
   "id": "4d434bd8",
   "metadata": {},
   "outputs": [
    {
     "name": "stdout",
     "output_type": "stream",
     "text": [
      "72.61843774138907\n"
     ]
    }
   ],
   "source": [
    "#Tính diện tích tam giác\n",
    "a = 10\n",
    "b = 20\n",
    "c = 15\n",
    "p = (a+b+c)/2\n",
    "\n",
    "s= (p * (p-a) * (p-b) * (p-c)) ** 0.5\n",
    "print(s)"
   ]
  }
 ],
 "metadata": {
  "kernelspec": {
   "display_name": "Python 3 (ipykernel)",
   "language": "python",
   "name": "python3"
  },
  "language_info": {
   "codemirror_mode": {
    "name": "ipython",
    "version": 3
   },
   "file_extension": ".py",
   "mimetype": "text/x-python",
   "name": "python",
   "nbconvert_exporter": "python",
   "pygments_lexer": "ipython3",
   "version": "3.10.2"
  }
 },
 "nbformat": 4,
 "nbformat_minor": 5
}
